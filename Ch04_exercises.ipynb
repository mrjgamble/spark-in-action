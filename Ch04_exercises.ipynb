{
 "cells": [
  {
   "cell_type": "code",
   "execution_count": 13,
   "metadata": {},
   "outputs": [],
   "source": [
    "import pandas as pd\n",
    "import numpy as np\n",
    "from pyspark import SparkContext, SparkConf\n",
    "from pyspark.sql import SQLContext\n",
    "import sys\n",
    "\n",
    "import findspark\n",
    "findspark.init()"
   ]
  },
  {
   "cell_type": "code",
   "execution_count": 28,
   "metadata": {},
   "outputs": [],
   "source": [
    "# create spark conf\n",
    "conf = SparkConf()\n",
    "conf.setAppName('Ch04')\n",
    "conf.setMaster('local')\n",
    "\n",
    "# create spark context\n",
    "sc = SparkContext(conf=conf)\n",
    "\n",
    "# create paired RDD\n",
    "# Each line in the file contains a transaction date, time, customer ID, \n",
    "# product ID, quantity, and product price, delimited with hash signs.\n",
    "tranFile = sc.textFile('./../first-edition/ch04/ch04_data_transactions.txt')\n",
    "tranData = tranFile.map(lambda line: line.split('#'))\n",
    "transByCust = tranData.map(lambda t: (int(t[2]), t))"
   ]
  },
  {
   "cell_type": "code",
   "execution_count": 29,
   "metadata": {},
   "outputs": [
    {
     "name": "stdout",
     "output_type": "stream",
     "text": [
      "Num of Customers: 100\n",
      "\n",
      "defaultdict(<class 'int'>, {51: 18, 99: 12, 79: 13, 86: 9, 63: 12, 23: 13, 49: 8, 97: 12, 94: 12, 91: 13, 20: 8, 38: 9, 46: 9, 56: 17, 11: 8, 59: 9, 8: 10, 85: 9, 27: 7, 84: 9, 54: 7, 74: 11, 6: 7, 35: 10, 39: 11, 47: 13, 17: 13, 40: 10, 57: 8, 80: 7, 87: 10, 52: 9, 30: 5, 62: 6, 41: 12, 71: 10, 61: 8, 95: 8, 5: 11, 2: 15, 78: 11, 13: 12, 4: 11, 100: 12, 19: 6, 98: 11, 53: 19, 89: 9, 15: 10, 45: 11, 12: 7, 32: 14, 16: 8, 1: 9, 72: 7, 14: 8, 7: 10, 28: 11, 43: 12, 93: 12, 70: 8, 73: 7, 65: 10, 50: 14, 3: 13, 69: 7, 60: 4, 76: 15, 66: 11, 90: 8, 10: 7, 34: 14, 83: 12, 64: 10, 18: 9, 81: 9, 44: 8, 21: 13, 88: 5, 58: 13, 24: 9, 26: 11, 77: 11, 36: 5, 22: 10, 31: 14, 96: 8, 29: 9, 33: 9, 68: 12, 75: 10, 25: 12, 48: 5, 82: 13, 9: 7, 67: 5, 37: 7, 55: 13, 92: 8, 42: 7})\n",
      "\n",
      "Num of transactions: 1000\n",
      "\n",
      "customer with most purchases: 53 (19 purchases)\n",
      "\n"
     ]
    }
   ],
   "source": [
    "# find the number of unique customer IDs\n",
    "numCustomers = transByCust.keys().distinct().count()\n",
    "print('Num of Customers: {}'.format(numCustomers))\n",
    "print()\n",
    "\n",
    "# investigate count by keys\n",
    "print(transByCust.countByKey())\n",
    "print()\n",
    "\n",
    "# we can find the number of transactions by summing the values\n",
    "numOfTrans = sum([v for (k, v) in transByCust.countByKey().items()])\n",
    "print('Num of transactions: {}'.format(numOfTrans))\n",
    "print()\n",
    "\n",
    "# find customer who made most purchases\n",
    "import operator \n",
    "(cid, purch) = sorted(transByCust.countByKey().items(), key=operator.itemgetter(1))[-1]\n",
    "print('customer with most purchases: {} ({} purchases)'.format(cid, purch))\n",
    "print()\n",
    "\n",
    "# we need to give this person a complimentary bear doll\n",
    "complTrans = [['2018-05-31', '12:00 PM', '53', '4', '1', '0.00']]"
   ]
  },
  {
   "cell_type": "code",
   "execution_count": 30,
   "metadata": {},
   "outputs": [
    {
     "name": "stdout",
     "output_type": "stream",
     "text": [
      "2015-03-30, 6:18 AM, 53, 42, 5, 2197.85\n",
      "2015-03-30, 4:42 AM, 53, 44, 6, 9182.08\n",
      "2015-03-30, 2:51 AM, 53, 59, 5, 3154.43\n",
      "2015-03-30, 5:57 PM, 53, 31, 5, 6649.27\n",
      "2015-03-30, 6:11 AM, 53, 33, 10, 2353.72\n",
      "2015-03-30, 9:46 PM, 53, 93, 1, 2889.03\n",
      "2015-03-30, 4:15 PM, 53, 72, 7, 9157.55\n",
      "2015-03-30, 2:42 PM, 53, 94, 1, 921.65\n",
      "2015-03-30, 8:30 AM, 53, 38, 5, 4000.92\n",
      "2015-03-30, 6:06 AM, 53, 12, 6, 2174.02\n",
      "2015-03-30, 3:44 AM, 53, 47, 1, 7556.32\n",
      "2015-03-30, 10:25 AM, 53, 30, 2, 5107.0\n",
      "2015-03-30, 1:48 AM, 53, 58, 4, 718.93\n",
      "2015-03-30, 9:31 AM, 53, 18, 4, 8214.79\n",
      "2015-03-30, 9:04 AM, 53, 68, 4, 9246.59\n",
      "2015-03-30, 1:51 AM, 53, 40, 1, 4095.5\n",
      "2015-03-30, 1:53 PM, 53, 85, 9, 1630.24\n",
      "2015-03-30, 6:51 PM, 53, 100, 1, 1694.52\n",
      "2015-03-30, 7:39 PM, 53, 100, 8, 7885.35\n"
     ]
    }
   ],
   "source": [
    "# Find transactions made by person with the most purchases\n",
    "for t in transByCust.lookup(53):\n",
    "    print(', '.join(t))"
   ]
  },
  {
   "cell_type": "code",
   "execution_count": 31,
   "metadata": {},
   "outputs": [],
   "source": [
    "# Next Task: give 5% discount for two or more Barbie Shopping Mall Playsets (ID = 25)\n",
    "def applyDiscount(tran):\n",
    "    if (int(tran[3]) == 25) & (int(tran[4]) >= 2):\n",
    "        tran[5] = str(float(tran[5]) * 0.95)\n",
    "    \n",
    "    return tran"
   ]
  },
  {
   "cell_type": "code",
   "execution_count": 32,
   "metadata": {},
   "outputs": [],
   "source": [
    "# apply the discount\n",
    "transByCust = transByCust.mapValues(lambda t: applyDiscount(t))"
   ]
  },
  {
   "cell_type": "code",
   "execution_count": 33,
   "metadata": {},
   "outputs": [],
   "source": [
    "# Next Task: Add complimentary toothbrush (ID 70) to \n",
    "# customers who bought five or more dictionaries (ID 81)\n",
    "from copy import copy\n",
    "\n",
    "def addToothbrush(tran):\n",
    "    if (int(tran[3]) == 81) & (int(tran[4]) > 4):\n",
    "        clonedTran = copy(tran)\n",
    "        clonedTran[5] == '0.00'\n",
    "        clonedTran[4] == '1'\n",
    "        clonedTran[3] == '70'\n",
    "        return [tran, clonedTran]\n",
    "    else:\n",
    "        return [tran]"
   ]
  },
  {
   "cell_type": "code",
   "execution_count": 34,
   "metadata": {},
   "outputs": [],
   "source": [
    "# apply complimentary toothbrush\n",
    "transByCust = transByCust.flatMapValues(lambda t: addToothbrush(t))"
   ]
  },
  {
   "cell_type": "code",
   "execution_count": 35,
   "metadata": {},
   "outputs": [
    {
     "name": "stdout",
     "output_type": "stream",
     "text": [
      "Num of transactions: 1006\n",
      "\n"
     ]
    }
   ],
   "source": [
    "# how many transactions do we have now?\n",
    "numOfTrans = sum([v for (k, v) in transByCust.countByKey().items()])\n",
    "print('Num of transactions: {}'.format(numOfTrans))\n",
    "print()"
   ]
  },
  {
   "cell_type": "code",
   "execution_count": 36,
   "metadata": {},
   "outputs": [
    {
     "data": {
      "text/plain": [
       "[(76, 100049.00000000001), (53, 88829.76000000001), (56, 85906.94)]"
      ]
     },
     "execution_count": 36,
     "metadata": {},
     "output_type": "execute_result"
    }
   ],
   "source": [
    "# Next Task: Find the customer who spent the most money\n",
    "\n",
    "# first convert values from string to float\n",
    "amounts = transByCust.mapValues(lambda t: float(t[5]))\n",
    "\n",
    "# fold values by key\n",
    "totals = amounts.foldByKey(0, lambda p1, p2: p1 + p2).collect()\n",
    "\n",
    "# sort and print top 5 customers\n",
    "sorted(totals, key=operator.itemgetter(1), reverse=True)[:3]"
   ]
  },
  {
   "cell_type": "code",
   "execution_count": 37,
   "metadata": {},
   "outputs": [
    {
     "data": {
      "text/plain": [
       "[(76, 200049.0), (53, 188829.75999999998), (56, 185906.94000000003)]"
      ]
     },
     "execution_count": 37,
     "metadata": {},
     "output_type": "execute_result"
    }
   ],
   "source": [
    "# what happens if we seed the foldByKey with 100,000\n",
    "totals = amounts.foldByKey(100000, lambda p1, p2: p1 + p2).collect()\n",
    "\n",
    "# sort and print top 5 customers\n",
    "sorted(totals, key=operator.itemgetter(1), reverse=True)[:3]\n",
    "\n",
    "# The zero value is added to the values as many tims as there are partitions in the RDD"
   ]
  },
  {
   "cell_type": "code",
   "execution_count": 38,
   "metadata": {},
   "outputs": [],
   "source": [
    "# Next Task: Give a pair of pajamas (ID 63) to the customer with the highest transaction\n",
    "complTrans += [['2018-05-31', '12:00 PM', '76', '63', '1', '0.00']]"
   ]
  },
  {
   "cell_type": "code",
   "execution_count": 39,
   "metadata": {},
   "outputs": [],
   "source": [
    "# With the transactions complete, we can merge the \n",
    "# complimentary transactions into the main dataset\n",
    "complTrans_tuple = sc.parallelize(complTrans).map(lambda t: (int(t[2]), t))\n",
    "transByCust = transByCust.union(complTrans_tuple)\n",
    "transByCust.map(lambda t: '#'.join(t[1])).saveAsTextFile('ch04_output_transByCust')"
   ]
  },
  {
   "cell_type": "code",
   "execution_count": 40,
   "metadata": {},
   "outputs": [],
   "source": [
    "sc.stop()"
   ]
  },
  {
   "cell_type": "markdown",
   "metadata": {},
   "source": [
    "### 4.2 Understanding Data Partitioning and Reducing Data Shuffling"
   ]
  },
  {
   "cell_type": "code",
   "execution_count": null,
   "metadata": {},
   "outputs": [],
   "source": []
  }
 ],
 "metadata": {
  "kernelspec": {
   "display_name": "Python 3",
   "language": "python",
   "name": "python3"
  },
  "language_info": {
   "codemirror_mode": {
    "name": "ipython",
    "version": 3
   },
   "file_extension": ".py",
   "mimetype": "text/x-python",
   "name": "python",
   "nbconvert_exporter": "python",
   "pygments_lexer": "ipython3",
   "version": "3.6.4"
  }
 },
 "nbformat": 4,
 "nbformat_minor": 2
}
